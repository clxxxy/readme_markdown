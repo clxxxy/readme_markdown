{
 "cells": [
  {
   "cell_type": "markdown",
   "id": "378f75b9",
   "metadata": {},
   "source": [
    "# markdown para readme #\n",
    "\n",
    "básico de markdown para readme de repositórios\n",
    "- - -"
   ]
  },
  {
   "cell_type": "markdown",
   "id": "ec662b8c",
   "metadata": {},
   "source": [
    "## [I) tamanho de fontes: hierarquia de títulos]() ##\n",
    "\n",
    "# nível 1 - título principal #\n",
    "## nível 2 - títulos secundários ##\n",
    "### nível 3 - subtítulos ###\n",
    "\n",
    "- - -\n",
    "\n",
    "```\n",
    "# nível 1 - título principal #\n",
    "\n",
    "ou símbolo \"=\" abaixo:\n",
    "\n",
    "nível 1\n",
    "=\n",
    "```\n",
    "```\n",
    "## nível 2 - títulos secundário ##\n",
    "\n",
    "ou símbolo \"-\" abaixo:\n",
    "\n",
    "nível 2\n",
    "-\n",
    "```\n",
    "```\n",
    "### nível 3 - subtítulos ###\n",
    "```\n",
    "\n",
    "- - -"
   ]
  },
  {
   "cell_type": "markdown",
   "id": "237c3dff",
   "metadata": {},
   "source": [
    "## [II) estilos de escrita]() ##\n",
    "\n",
    "*itálico*, **negrito**, ***itálico-negrito*** ou ~~cortado~~\n",
    "- - -\n",
    "\n",
    "```\n",
    "*itálico* ou _itálico_\n",
    "\n",
    "**negrito** ou __negrito__\n",
    "\n",
    "***itálico-negrito*** ou ___itálico-negrito___\n",
    "\n",
    "~~cortado~~\n",
    "```\n",
    "\n",
    "- - -"
   ]
  },
  {
   "cell_type": "markdown",
   "id": "1a8e3985",
   "metadata": {},
   "source": [
    "## [III) links]() ##\n",
    "\n",
    "link com nome: [link exemplo](http://example.com)\n",
    "\n",
    "link puro: <http://example.com>\n",
    "- - -\n",
    "\n",
    "```\n",
    "link com nome: [link exemplo](http://example.com)\n",
    "link puro: <http://example.com>\n",
    "```\n",
    "\n",
    "- - -"
   ]
  },
  {
   "cell_type": "markdown",
   "id": "22445b5c",
   "metadata": {},
   "source": [
    "## [IV) tabelas]() ##\n",
    "\n",
    "- padrão: alinhamento central\n",
    "\n",
    "\n",
    "título 1 | título 2 | título 3\n",
    "-------- | -------- | --------\n",
    "conteúdo | conteúdo | conteúdo\n",
    "conteúdo | conteúdo | conteúdo\n",
    "conteúdo | conteúdo | conteúdo\n",
    "- - -\n",
    "\n",
    "```\n",
    "título 1 | título 2 | título 3\n",
    "-------- | -------- | --------\n",
    "conteúdo | conteúdo | conteúdo\n",
    "conteúdo | conteúdo | conteúdo\n",
    "conteúdo | conteúdo | conteúdo\n",
    "```\n",
    "- - -\n",
    "- alinhamentos específicos\n",
    "\n",
    "alinhamento na esquerda | alinhamento no centro | alinhamento na direita\n",
    "| :--- | :---: | ---: |\n",
    "conteúdo | conteúdo | conteúdo\n",
    "conteúdo | conteúdo | conteúdo\n",
    "conteúdo | conteúdo | conteúdo\n",
    "- - -\n",
    "\n",
    "```\n",
    "alinhamento na esquerda | alinhamento no centro | alinhamento na direita\n",
    "| :--- | :---: | ---: |\n",
    "conteúdo | conteúdo | conteúdo\n",
    "conteúdo | conteúdo | conteúdo\n",
    "conteúdo | conteúdo | conteúdo\n",
    "```\n",
    "\n",
    "- - -"
   ]
  },
  {
   "cell_type": "code",
   "execution_count": null,
   "id": "7a256b09",
   "metadata": {},
   "outputs": [],
   "source": []
  }
 ],
 "metadata": {
  "kernelspec": {
   "display_name": "Python 3 (ipykernel)",
   "language": "python",
   "name": "python3"
  },
  "language_info": {
   "codemirror_mode": {
    "name": "ipython",
    "version": 3
   },
   "file_extension": ".py",
   "mimetype": "text/x-python",
   "name": "python",
   "nbconvert_exporter": "python",
   "pygments_lexer": "ipython3",
   "version": "3.9.13"
  }
 },
 "nbformat": 4,
 "nbformat_minor": 5
}
